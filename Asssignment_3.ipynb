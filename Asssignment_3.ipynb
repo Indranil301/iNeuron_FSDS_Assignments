{
 "cells": [
  {
   "cell_type": "markdown",
   "metadata": {},
   "source": [
    "1. Why are functions advantageous to have in your programs?\n",
    "\n",
    "Helps in making making the code modular,thereby icreasing the reusibility of code."
   ]
  },
  {
   "attachments": {},
   "cell_type": "markdown",
   "metadata": {},
   "source": [
    "2. When does the code in a function run: when it's specified or when it's called?\n",
    "\n",
    "When it is called"
   ]
  },
  {
   "attachments": {},
   "cell_type": "markdown",
   "metadata": {},
   "source": [
    "3. What statement creates a function?\n",
    "\n",
    "def function_name(Arguments):"
   ]
  },
  {
   "attachments": {},
   "cell_type": "markdown",
   "metadata": {},
   "source": [
    "4. What is the difference between a function and a function call?\n",
    "\n",
    "A function or method is a segement of code that performs a particular operation and returns result.\n",
    "\n",
    "A function call is the code used to pass control to the method."
   ]
  },
  {
   "attachments": {},
   "cell_type": "markdown",
   "metadata": {},
   "source": [
    "5. How many global scopes are there in a Python program? How many local scopes?\n",
    "\n",
    "There is only one global python scope per program.\n",
    "\n",
    "There are as many local scopes in a python program as the number of functions in a program."
   ]
  },
  {
   "attachments": {},
   "cell_type": "markdown",
   "metadata": {},
   "source": [
    "6. What happens to variables in a local scope when the function call returns?\n",
    "\n",
    "The local variables shall be destroyed."
   ]
  },
  {
   "attachments": {},
   "cell_type": "markdown",
   "metadata": {},
   "source": [
    "7. What is the concept of a return value? Is it possible to have a return value in an expression?\n",
    "\n",
    "A return is a value that a function returns to the calling script or function when it completes its task.\n",
    "No, we can only return values."
   ]
  },
  {
   "attachments": {},
   "cell_type": "markdown",
   "metadata": {},
   "source": [
    "8. If a function does not have a return statement, what is the return value of a call to that function?\n",
    "\n",
    "The return value is undefined,control automatically returns to the calling function."
   ]
  },
  {
   "attachments": {},
   "cell_type": "markdown",
   "metadata": {},
   "source": [
    "9. How do you make a function variable refer to the global variable?\n",
    "\n",
    "by using the global keyword"
   ]
  },
  {
   "attachments": {},
   "cell_type": "markdown",
   "metadata": {},
   "source": [
    "10. What is the data type of None?\n",
    "\n",
    "None is a data type of its own.Although we also have Not a number(NaN), which is basically a combination of floating number."
   ]
  },
  {
   "attachments": {},
   "cell_type": "markdown",
   "metadata": {},
   "source": [
    "11. What does the sentence import areallyourpetsnamederic do?\n",
    "\n",
    "imports the areallyourpetsnamederic package to the current code."
   ]
  },
  {
   "attachments": {},
   "cell_type": "markdown",
   "metadata": {},
   "source": [
    "12. If you had a bacon() feature in a spam module, what would you call it after importing spam?\n",
    "\n",
    "import spam\n",
    "\n",
    "spam.bacon()"
   ]
  },
  {
   "cell_type": "markdown",
   "metadata": {},
   "source": [
    "13. What can you do to save a programme from crashing if it encounters an error?\n",
    "\n",
    "We can use ExceptionHandling.\n",
    "\n",
    "try\n",
    "\n",
    "except\n",
    "\n",
    "else\n",
    "\n",
    "finally"
   ]
  },
  {
   "cell_type": "markdown",
   "metadata": {},
   "source": [
    "14. What is the purpose of the try clause? What is the purpose of the except clause?\n",
    "\n",
    "The try block lets you test a block of code for errors.\n",
    "\n",
    "The except block lets you handle the error."
   ]
  }
 ],
 "metadata": {
  "kernelspec": {
   "display_name": "base",
   "language": "python",
   "name": "python3"
  },
  "language_info": {
   "name": "python",
   "version": "3.9.13 (main, Aug 25 2022, 23:51:50) [MSC v.1916 64 bit (AMD64)]"
  },
  "orig_nbformat": 4,
  "vscode": {
   "interpreter": {
    "hash": "7a15bcec7c0559c62175669ec6b991fdfb120f79b3044ee904eb55b269f77428"
   }
  }
 },
 "nbformat": 4,
 "nbformat_minor": 2
}
